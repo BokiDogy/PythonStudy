{
 "cells": [
  {
   "cell_type": "code",
   "execution_count": 2,
   "metadata": {},
   "outputs": [
    {
     "data": {
      "text/plain": [
       "1.82"
      ]
     },
     "execution_count": 2,
     "metadata": {},
     "output_type": "execute_result"
    }
   ],
   "source": [
    "height=1.82\n",
    "weight=106.5\n",
    "height\n"
   ]
  },
  {
   "cell_type": "code",
   "execution_count": 3,
   "metadata": {},
   "outputs": [
    {
     "data": {
      "text/plain": [
       "32.151914020045886"
      ]
     },
     "execution_count": 3,
     "metadata": {},
     "output_type": "execute_result"
    }
   ],
   "source": [
    "weight/height**2"
   ]
  },
  {
   "cell_type": "code",
   "execution_count": 4,
   "metadata": {},
   "outputs": [],
   "source": [
    "bmi = weight / height ** 2\n"
   ]
  },
  {
   "cell_type": "code",
   "execution_count": 5,
   "metadata": {},
   "outputs": [
    {
     "data": {
      "text/plain": [
       "32.151914020045886"
      ]
     },
     "execution_count": 5,
     "metadata": {},
     "output_type": "execute_result"
    }
   ],
   "source": [
    "bmi"
   ]
  },
  {
   "cell_type": "code",
   "execution_count": 6,
   "metadata": {},
   "outputs": [
    {
     "data": {
      "text/plain": [
       "float"
      ]
     },
     "execution_count": 6,
     "metadata": {},
     "output_type": "execute_result"
    }
   ],
   "source": [
    "type(bmi)"
   ]
  },
  {
   "cell_type": "code",
   "execution_count": 46,
   "metadata": {},
   "outputs": [
    {
     "name": "stdout",
     "output_type": "stream",
     "text": [
      "['z', 'y', 'x', 'w', 'v', 'u', 't', 's', 'r', 'q', 'p', 'o', 'n', 'm', 'l', 'k', 'j', 'i', 'h', 'g', 'f', 'e', 'd', 'c', 'b', 'a']\n"
     ]
    },
    {
     "data": {
      "text/plain": [
       "'o'"
      ]
     },
     "execution_count": 46,
     "metadata": {},
     "output_type": "execute_result"
    }
   ],
   "source": [
    "import re\n",
    "\n",
    "data = \"AAaooo!!!!\"\n",
    "x = 0\n",
    "result = ''\n",
    "lettes = []\n",
    "for num in range(122, 96,-1):\n",
    "    lettes.append(chr(num))\n",
    "print(lettes)\n",
    "for l in lettes:\n",
    "    cou = len(re.findall(l, data))\n",
    "    if cou >= x:\n",
    "        x = cou\n",
    "        result = l\n",
    "    else:\n",
    "        continue\n",
    "result\n"
   ]
  },
  {
   "cell_type": "code",
   "execution_count": null,
   "metadata": {},
   "outputs": [
    {
     "name": "stdout",
     "output_type": "stream",
     "text": [
      "                                                            \n                                                            \n                                                            \n                udTencent           tCloudTen               \n            CloudTencentCloud   centCloudTencentC           \n          tCloudTencentCloudTencentCloudTencentClou         \n         tCloudTencentCloudTencentCloudTencentCloudT        \n        tCloudTencentCloudTencentCloudTencentCloudTen       \n        CloudTencentCloudTencentCloudTencentCloudTenc       \n        loudTencentCloudTencentCloudTencentCloudTence       \n        oudTencentCloudTencentCloudTencentCloudTencen       \n        udTencentCloudTencentCloudTencentCloudTencent       \n        dTencentCloudTencentCloudTencentCloudTencentC       \n         encentCloudTencentCloudTencentCloudTencentC        \n          centCloudTencentCloudTencentCloudTencentC         \n          entCloudTencentCloudTencentCloudTencentCl         \n            CloudTencentCloudTencentCloudTencentC           \n             oudTencentCloudTencentCloudTencentC            \n              dTencentCloudTencentCloudTencentC             \n                ncentCloudTencentCloudTencent               \n                  ntCloudTencentCloudTencen                 \n                    loudTencentCloudTence                   \n                       TencentCloudTen                      \n                          entCloudT                         \n                             lou                            \n                              u                             \n                                                            \n                                                            \n                                                            \n                                                            \n"
     ]
    }
   ],
   "source": [
    "print('\\n'.join([''.join([('CloudTencent'[(x-y)%12]if((x*0.05)**2+(y*0.1)**2-1)**3-(x*0.05)**2*(y*0.1)**3<=0 else' ')for x in range(-30,30)])for y in range(15,-15,-1)]))"
   ]
  },
  {
   "cell_type": "code",
   "execution_count": null,
   "metadata": {},
   "outputs": [],
   "source": []
  }
 ],
 "metadata": {
  "kernelspec": {
   "display_name": "Python 2",
   "language": "python",
   "name": "python2"
  },
  "language_info": {
   "codemirror_mode": {
    "name": "ipython",
    "version": 2
   },
   "file_extension": ".py",
   "mimetype": "text/x-python",
   "name": "python",
   "nbconvert_exporter": "python",
   "pygments_lexer": "ipython2",
   "version": "2.7.6"
  }
 },
 "nbformat": 4,
 "nbformat_minor": 0
}
